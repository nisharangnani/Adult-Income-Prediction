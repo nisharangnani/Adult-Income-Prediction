{
  "nbformat": 4,
  "nbformat_minor": 0,
  "metadata": {
    "colab": {
      "name": "Untitled1.ipynb",
      "provenance": []
    },
    "kernelspec": {
      "name": "python3",
      "display_name": "Python 3"
    }
  },
  "cells": [
    {
      "cell_type": "code",
      "metadata": {
        "id": "YH90jdkg3VEh",
        "colab_type": "code",
        "colab": {}
      },
      "source": [
        "from google.colab import drive\n",
        "drive.mount('/content/gdrive', force_remount=True)"
      ],
      "execution_count": 0,
      "outputs": []
    },
    {
      "cell_type": "markdown",
      "metadata": {
        "id": "iIQfNRhQ58Eu",
        "colab_type": "text"
      },
      "source": [
        "#**IST 707 - Bonus Assignment - Adult Income Prediction**"
      ]
    },
    {
      "cell_type": "markdown",
      "metadata": {
        "id": "7WmTcVoI6QxE",
        "colab_type": "text"
      },
      "source": [
        "**By Nisha Rangnani**\n",
        "\n",
        "**5/8/2020**"
      ]
    },
    {
      "cell_type": "markdown",
      "metadata": {
        "id": "hFIbhi3LyrOC",
        "colab_type": "text"
      },
      "source": [
        "This dataset contains information about various details of individuals and aims to predict their income based on different parameters recorded. Income is classified into two categories - <=50K or >50K, that is, income being less than or equal to $50,000 and income greater than $50,000. The dataset consists of 48,842 instances and 15 attributes. It has both numerical and categorical attributes such as age, gender, occupation, number of hours the individual works per week, etc. I aim to classify the class variable, income depending on the input values of various attributes in the dataset.\n",
        "\n",
        "The dataset can be found at the following link:\n",
        "https://archive.ics.uci.edu/ml/datasets/adult"
      ]
    },
    {
      "cell_type": "markdown",
      "metadata": {
        "id": "tURdTxLW297C",
        "colab_type": "text"
      },
      "source": [
        "**Let us begin by importing various libraries that we'll be using.**"
      ]
    },
    {
      "cell_type": "code",
      "metadata": {
        "id": "UJj6e9mh7mTx",
        "colab_type": "code",
        "colab": {}
      },
      "source": [
        "import pandas as pd\n",
        "import numpy as np\n",
        "import matplotlib.pyplot as plt\n",
        "from sklearn.model_selection import train_test_split, GridSearchCV, cross_val_score, ShuffleSplit\n",
        "from sklearn import metrics\n",
        "from sklearn.metrics import accuracy_score, recall_score\n",
        "from sklearn.preprocessing import StandardScaler\n",
        "from sklearn.metrics import accuracy_score, roc_curve, auc\n",
        "from sklearn.linear_model import LogisticRegression\n",
        "from sklearn.pipeline import make_pipeline\n",
        "from sklearn.ensemble import RandomForestClassifier\n",
        "from sklearn.ensemble import GradientBoostingClassifier as gbm"
      ],
      "execution_count": 0,
      "outputs": []
    },
    {
      "cell_type": "markdown",
      "metadata": {
        "id": "uBA8nqJN3Gpf",
        "colab_type": "text"
      },
      "source": [
        "**Import the dataset:**"
      ]
    },
    {
      "cell_type": "code",
      "metadata": {
        "id": "4yuMr2jH8cz8",
        "colab_type": "code",
        "colab": {}
      },
      "source": [
        "DATASET_PATH = 'gdrive/My Drive/Nisha/MS_ADS/DA/'\n",
        "TRAIN_PATH = DATASET_PATH + 'adult.csv'\n",
        "\n",
        "OUTPUT_COL = 'income'\n",
        "df_train = pd.read_csv(TRAIN_PATH)"
      ],
      "execution_count": 0,
      "outputs": []
    },
    {
      "cell_type": "markdown",
      "metadata": {
        "id": "UmF2mDYQGtjA",
        "colab_type": "text"
      },
      "source": [
        "**Exploring the dataset:**"
      ]
    },
    {
      "cell_type": "code",
      "metadata": {
        "id": "2D_M0l5uGwPb",
        "colab_type": "code",
        "colab": {
          "base_uri": "https://localhost:8080/",
          "height": 34
        },
        "outputId": "f66b9b7f-f321-4aaa-afd5-c1e5ab3b2428"
      },
      "source": [
        "df_train.shape"
      ],
      "execution_count": 139,
      "outputs": [
        {
          "output_type": "execute_result",
          "data": {
            "text/plain": [
              "(48842, 15)"
            ]
          },
          "metadata": {
            "tags": []
          },
          "execution_count": 139
        }
      ]
    },
    {
      "cell_type": "markdown",
      "metadata": {
        "id": "FJQUR_BrH7nU",
        "colab_type": "text"
      },
      "source": [
        "**From the above result, we can see that the dataset has 48,842 instances and 15 attributes.** \n",
        "\n",
        "**Let us now dive deeper to explore various numerical attributes:**"
      ]
    },
    {
      "cell_type": "code",
      "metadata": {
        "id": "pilixCjJG5_V",
        "colab_type": "code",
        "colab": {
          "base_uri": "https://localhost:8080/",
          "height": 284
        },
        "outputId": "25fd3aa6-8eb2-4710-a239-8a230957ddaa"
      },
      "source": [
        "df_train.describe()"
      ],
      "execution_count": 140,
      "outputs": [
        {
          "output_type": "execute_result",
          "data": {
            "text/html": [
              "<div>\n",
              "<style scoped>\n",
              "    .dataframe tbody tr th:only-of-type {\n",
              "        vertical-align: middle;\n",
              "    }\n",
              "\n",
              "    .dataframe tbody tr th {\n",
              "        vertical-align: top;\n",
              "    }\n",
              "\n",
              "    .dataframe thead th {\n",
              "        text-align: right;\n",
              "    }\n",
              "</style>\n",
              "<table border=\"1\" class=\"dataframe\">\n",
              "  <thead>\n",
              "    <tr style=\"text-align: right;\">\n",
              "      <th></th>\n",
              "      <th>age</th>\n",
              "      <th>fnlwgt</th>\n",
              "      <th>educational-num</th>\n",
              "      <th>capital-gain</th>\n",
              "      <th>capital-loss</th>\n",
              "      <th>hours-per-week</th>\n",
              "    </tr>\n",
              "  </thead>\n",
              "  <tbody>\n",
              "    <tr>\n",
              "      <th>count</th>\n",
              "      <td>48842.000000</td>\n",
              "      <td>4.884200e+04</td>\n",
              "      <td>48842.000000</td>\n",
              "      <td>48842.000000</td>\n",
              "      <td>48842.000000</td>\n",
              "      <td>48842.000000</td>\n",
              "    </tr>\n",
              "    <tr>\n",
              "      <th>mean</th>\n",
              "      <td>38.643585</td>\n",
              "      <td>1.896641e+05</td>\n",
              "      <td>10.078089</td>\n",
              "      <td>1079.067626</td>\n",
              "      <td>87.502314</td>\n",
              "      <td>40.422382</td>\n",
              "    </tr>\n",
              "    <tr>\n",
              "      <th>std</th>\n",
              "      <td>13.710510</td>\n",
              "      <td>1.056040e+05</td>\n",
              "      <td>2.570973</td>\n",
              "      <td>7452.019058</td>\n",
              "      <td>403.004552</td>\n",
              "      <td>12.391444</td>\n",
              "    </tr>\n",
              "    <tr>\n",
              "      <th>min</th>\n",
              "      <td>17.000000</td>\n",
              "      <td>1.228500e+04</td>\n",
              "      <td>1.000000</td>\n",
              "      <td>0.000000</td>\n",
              "      <td>0.000000</td>\n",
              "      <td>1.000000</td>\n",
              "    </tr>\n",
              "    <tr>\n",
              "      <th>25%</th>\n",
              "      <td>28.000000</td>\n",
              "      <td>1.175505e+05</td>\n",
              "      <td>9.000000</td>\n",
              "      <td>0.000000</td>\n",
              "      <td>0.000000</td>\n",
              "      <td>40.000000</td>\n",
              "    </tr>\n",
              "    <tr>\n",
              "      <th>50%</th>\n",
              "      <td>37.000000</td>\n",
              "      <td>1.781445e+05</td>\n",
              "      <td>10.000000</td>\n",
              "      <td>0.000000</td>\n",
              "      <td>0.000000</td>\n",
              "      <td>40.000000</td>\n",
              "    </tr>\n",
              "    <tr>\n",
              "      <th>75%</th>\n",
              "      <td>48.000000</td>\n",
              "      <td>2.376420e+05</td>\n",
              "      <td>12.000000</td>\n",
              "      <td>0.000000</td>\n",
              "      <td>0.000000</td>\n",
              "      <td>45.000000</td>\n",
              "    </tr>\n",
              "    <tr>\n",
              "      <th>max</th>\n",
              "      <td>90.000000</td>\n",
              "      <td>1.490400e+06</td>\n",
              "      <td>16.000000</td>\n",
              "      <td>99999.000000</td>\n",
              "      <td>4356.000000</td>\n",
              "      <td>99.000000</td>\n",
              "    </tr>\n",
              "  </tbody>\n",
              "</table>\n",
              "</div>"
            ],
            "text/plain": [
              "                age        fnlwgt  ...  capital-loss  hours-per-week\n",
              "count  48842.000000  4.884200e+04  ...  48842.000000    48842.000000\n",
              "mean      38.643585  1.896641e+05  ...     87.502314       40.422382\n",
              "std       13.710510  1.056040e+05  ...    403.004552       12.391444\n",
              "min       17.000000  1.228500e+04  ...      0.000000        1.000000\n",
              "25%       28.000000  1.175505e+05  ...      0.000000       40.000000\n",
              "50%       37.000000  1.781445e+05  ...      0.000000       40.000000\n",
              "75%       48.000000  2.376420e+05  ...      0.000000       45.000000\n",
              "max       90.000000  1.490400e+06  ...   4356.000000       99.000000\n",
              "\n",
              "[8 rows x 6 columns]"
            ]
          },
          "metadata": {
            "tags": []
          },
          "execution_count": 140
        }
      ]
    },
    {
      "cell_type": "code",
      "metadata": {
        "id": "BnPVfmYpI8w3",
        "colab_type": "code",
        "colab": {
          "base_uri": "https://localhost:8080/",
          "height": 355
        },
        "outputId": "01d905d3-232b-4940-8749-b30202e11c18"
      },
      "source": [
        "df_train.head(7)"
      ],
      "execution_count": 141,
      "outputs": [
        {
          "output_type": "execute_result",
          "data": {
            "text/html": [
              "<div>\n",
              "<style scoped>\n",
              "    .dataframe tbody tr th:only-of-type {\n",
              "        vertical-align: middle;\n",
              "    }\n",
              "\n",
              "    .dataframe tbody tr th {\n",
              "        vertical-align: top;\n",
              "    }\n",
              "\n",
              "    .dataframe thead th {\n",
              "        text-align: right;\n",
              "    }\n",
              "</style>\n",
              "<table border=\"1\" class=\"dataframe\">\n",
              "  <thead>\n",
              "    <tr style=\"text-align: right;\">\n",
              "      <th></th>\n",
              "      <th>age</th>\n",
              "      <th>workclass</th>\n",
              "      <th>fnlwgt</th>\n",
              "      <th>education</th>\n",
              "      <th>educational-num</th>\n",
              "      <th>marital-status</th>\n",
              "      <th>occupation</th>\n",
              "      <th>relationship</th>\n",
              "      <th>race</th>\n",
              "      <th>gender</th>\n",
              "      <th>capital-gain</th>\n",
              "      <th>capital-loss</th>\n",
              "      <th>hours-per-week</th>\n",
              "      <th>native-country</th>\n",
              "      <th>income</th>\n",
              "    </tr>\n",
              "  </thead>\n",
              "  <tbody>\n",
              "    <tr>\n",
              "      <th>0</th>\n",
              "      <td>25</td>\n",
              "      <td>Private</td>\n",
              "      <td>226802</td>\n",
              "      <td>11th</td>\n",
              "      <td>7</td>\n",
              "      <td>Never-married</td>\n",
              "      <td>Machine-op-inspct</td>\n",
              "      <td>Own-child</td>\n",
              "      <td>Black</td>\n",
              "      <td>Male</td>\n",
              "      <td>0</td>\n",
              "      <td>0</td>\n",
              "      <td>40</td>\n",
              "      <td>United-States</td>\n",
              "      <td>&lt;=50K</td>\n",
              "    </tr>\n",
              "    <tr>\n",
              "      <th>1</th>\n",
              "      <td>38</td>\n",
              "      <td>Private</td>\n",
              "      <td>89814</td>\n",
              "      <td>HS-grad</td>\n",
              "      <td>9</td>\n",
              "      <td>Married-civ-spouse</td>\n",
              "      <td>Farming-fishing</td>\n",
              "      <td>Husband</td>\n",
              "      <td>White</td>\n",
              "      <td>Male</td>\n",
              "      <td>0</td>\n",
              "      <td>0</td>\n",
              "      <td>50</td>\n",
              "      <td>United-States</td>\n",
              "      <td>&lt;=50K</td>\n",
              "    </tr>\n",
              "    <tr>\n",
              "      <th>2</th>\n",
              "      <td>28</td>\n",
              "      <td>Local-gov</td>\n",
              "      <td>336951</td>\n",
              "      <td>Assoc-acdm</td>\n",
              "      <td>12</td>\n",
              "      <td>Married-civ-spouse</td>\n",
              "      <td>Protective-serv</td>\n",
              "      <td>Husband</td>\n",
              "      <td>White</td>\n",
              "      <td>Male</td>\n",
              "      <td>0</td>\n",
              "      <td>0</td>\n",
              "      <td>40</td>\n",
              "      <td>United-States</td>\n",
              "      <td>&gt;50K</td>\n",
              "    </tr>\n",
              "    <tr>\n",
              "      <th>3</th>\n",
              "      <td>44</td>\n",
              "      <td>Private</td>\n",
              "      <td>160323</td>\n",
              "      <td>Some-college</td>\n",
              "      <td>10</td>\n",
              "      <td>Married-civ-spouse</td>\n",
              "      <td>Machine-op-inspct</td>\n",
              "      <td>Husband</td>\n",
              "      <td>Black</td>\n",
              "      <td>Male</td>\n",
              "      <td>7688</td>\n",
              "      <td>0</td>\n",
              "      <td>40</td>\n",
              "      <td>United-States</td>\n",
              "      <td>&gt;50K</td>\n",
              "    </tr>\n",
              "    <tr>\n",
              "      <th>4</th>\n",
              "      <td>18</td>\n",
              "      <td>?</td>\n",
              "      <td>103497</td>\n",
              "      <td>Some-college</td>\n",
              "      <td>10</td>\n",
              "      <td>Never-married</td>\n",
              "      <td>?</td>\n",
              "      <td>Own-child</td>\n",
              "      <td>White</td>\n",
              "      <td>Female</td>\n",
              "      <td>0</td>\n",
              "      <td>0</td>\n",
              "      <td>30</td>\n",
              "      <td>United-States</td>\n",
              "      <td>&lt;=50K</td>\n",
              "    </tr>\n",
              "    <tr>\n",
              "      <th>5</th>\n",
              "      <td>34</td>\n",
              "      <td>Private</td>\n",
              "      <td>198693</td>\n",
              "      <td>10th</td>\n",
              "      <td>6</td>\n",
              "      <td>Never-married</td>\n",
              "      <td>Other-service</td>\n",
              "      <td>Not-in-family</td>\n",
              "      <td>White</td>\n",
              "      <td>Male</td>\n",
              "      <td>0</td>\n",
              "      <td>0</td>\n",
              "      <td>30</td>\n",
              "      <td>United-States</td>\n",
              "      <td>&lt;=50K</td>\n",
              "    </tr>\n",
              "    <tr>\n",
              "      <th>6</th>\n",
              "      <td>29</td>\n",
              "      <td>?</td>\n",
              "      <td>227026</td>\n",
              "      <td>HS-grad</td>\n",
              "      <td>9</td>\n",
              "      <td>Never-married</td>\n",
              "      <td>?</td>\n",
              "      <td>Unmarried</td>\n",
              "      <td>Black</td>\n",
              "      <td>Male</td>\n",
              "      <td>0</td>\n",
              "      <td>0</td>\n",
              "      <td>40</td>\n",
              "      <td>United-States</td>\n",
              "      <td>&lt;=50K</td>\n",
              "    </tr>\n",
              "  </tbody>\n",
              "</table>\n",
              "</div>"
            ],
            "text/plain": [
              "   age  workclass  fnlwgt  ... hours-per-week  native-country income\n",
              "0   25    Private  226802  ...             40   United-States  <=50K\n",
              "1   38    Private   89814  ...             50   United-States  <=50K\n",
              "2   28  Local-gov  336951  ...             40   United-States   >50K\n",
              "3   44    Private  160323  ...             40   United-States   >50K\n",
              "4   18          ?  103497  ...             30   United-States  <=50K\n",
              "5   34    Private  198693  ...             30   United-States  <=50K\n",
              "6   29          ?  227026  ...             40   United-States  <=50K\n",
              "\n",
              "[7 rows x 15 columns]"
            ]
          },
          "metadata": {
            "tags": []
          },
          "execution_count": 141
        }
      ]
    },
    {
      "cell_type": "markdown",
      "metadata": {
        "id": "MbPxEvWeKf3T",
        "colab_type": "text"
      },
      "source": [
        "**Before moving ahead, let us first check if we have any duplicates in our data.**"
      ]
    },
    {
      "cell_type": "code",
      "metadata": {
        "id": "Wah4yVloKiAm",
        "colab_type": "code",
        "colab": {
          "base_uri": "https://localhost:8080/",
          "height": 262
        },
        "outputId": "385f16e2-c61b-4865-ed86-48366d1a69ee"
      },
      "source": [
        "df_train[df_train.duplicated(subset=None, keep='first')].head()"
      ],
      "execution_count": 142,
      "outputs": [
        {
          "output_type": "execute_result",
          "data": {
            "text/html": [
              "<div>\n",
              "<style scoped>\n",
              "    .dataframe tbody tr th:only-of-type {\n",
              "        vertical-align: middle;\n",
              "    }\n",
              "\n",
              "    .dataframe tbody tr th {\n",
              "        vertical-align: top;\n",
              "    }\n",
              "\n",
              "    .dataframe thead th {\n",
              "        text-align: right;\n",
              "    }\n",
              "</style>\n",
              "<table border=\"1\" class=\"dataframe\">\n",
              "  <thead>\n",
              "    <tr style=\"text-align: right;\">\n",
              "      <th></th>\n",
              "      <th>age</th>\n",
              "      <th>workclass</th>\n",
              "      <th>fnlwgt</th>\n",
              "      <th>education</th>\n",
              "      <th>educational-num</th>\n",
              "      <th>marital-status</th>\n",
              "      <th>occupation</th>\n",
              "      <th>relationship</th>\n",
              "      <th>race</th>\n",
              "      <th>gender</th>\n",
              "      <th>capital-gain</th>\n",
              "      <th>capital-loss</th>\n",
              "      <th>hours-per-week</th>\n",
              "      <th>native-country</th>\n",
              "      <th>income</th>\n",
              "    </tr>\n",
              "  </thead>\n",
              "  <tbody>\n",
              "    <tr>\n",
              "      <th>864</th>\n",
              "      <td>24</td>\n",
              "      <td>Private</td>\n",
              "      <td>194630</td>\n",
              "      <td>Bachelors</td>\n",
              "      <td>13</td>\n",
              "      <td>Never-married</td>\n",
              "      <td>Prof-specialty</td>\n",
              "      <td>Not-in-family</td>\n",
              "      <td>White</td>\n",
              "      <td>Male</td>\n",
              "      <td>0</td>\n",
              "      <td>0</td>\n",
              "      <td>35</td>\n",
              "      <td>United-States</td>\n",
              "      <td>&lt;=50K</td>\n",
              "    </tr>\n",
              "    <tr>\n",
              "      <th>11189</th>\n",
              "      <td>37</td>\n",
              "      <td>Private</td>\n",
              "      <td>52870</td>\n",
              "      <td>Bachelors</td>\n",
              "      <td>13</td>\n",
              "      <td>Married-civ-spouse</td>\n",
              "      <td>Exec-managerial</td>\n",
              "      <td>Husband</td>\n",
              "      <td>White</td>\n",
              "      <td>Male</td>\n",
              "      <td>0</td>\n",
              "      <td>0</td>\n",
              "      <td>40</td>\n",
              "      <td>United-States</td>\n",
              "      <td>&lt;=50K</td>\n",
              "    </tr>\n",
              "    <tr>\n",
              "      <th>11212</th>\n",
              "      <td>29</td>\n",
              "      <td>Private</td>\n",
              "      <td>36440</td>\n",
              "      <td>Bachelors</td>\n",
              "      <td>13</td>\n",
              "      <td>Never-married</td>\n",
              "      <td>Adm-clerical</td>\n",
              "      <td>Not-in-family</td>\n",
              "      <td>White</td>\n",
              "      <td>Female</td>\n",
              "      <td>0</td>\n",
              "      <td>0</td>\n",
              "      <td>40</td>\n",
              "      <td>United-States</td>\n",
              "      <td>&lt;=50K</td>\n",
              "    </tr>\n",
              "    <tr>\n",
              "      <th>13848</th>\n",
              "      <td>30</td>\n",
              "      <td>Private</td>\n",
              "      <td>180317</td>\n",
              "      <td>Assoc-voc</td>\n",
              "      <td>11</td>\n",
              "      <td>Divorced</td>\n",
              "      <td>Machine-op-inspct</td>\n",
              "      <td>Not-in-family</td>\n",
              "      <td>White</td>\n",
              "      <td>Male</td>\n",
              "      <td>0</td>\n",
              "      <td>0</td>\n",
              "      <td>40</td>\n",
              "      <td>United-States</td>\n",
              "      <td>&lt;=50K</td>\n",
              "    </tr>\n",
              "    <tr>\n",
              "      <th>15960</th>\n",
              "      <td>18</td>\n",
              "      <td>Self-emp-inc</td>\n",
              "      <td>378036</td>\n",
              "      <td>12th</td>\n",
              "      <td>8</td>\n",
              "      <td>Never-married</td>\n",
              "      <td>Farming-fishing</td>\n",
              "      <td>Own-child</td>\n",
              "      <td>White</td>\n",
              "      <td>Male</td>\n",
              "      <td>0</td>\n",
              "      <td>0</td>\n",
              "      <td>10</td>\n",
              "      <td>United-States</td>\n",
              "      <td>&lt;=50K</td>\n",
              "    </tr>\n",
              "  </tbody>\n",
              "</table>\n",
              "</div>"
            ],
            "text/plain": [
              "       age     workclass  fnlwgt  ... hours-per-week  native-country income\n",
              "864     24       Private  194630  ...             35   United-States  <=50K\n",
              "11189   37       Private   52870  ...             40   United-States  <=50K\n",
              "11212   29       Private   36440  ...             40   United-States  <=50K\n",
              "13848   30       Private  180317  ...             40   United-States  <=50K\n",
              "15960   18  Self-emp-inc  378036  ...             10   United-States  <=50K\n",
              "\n",
              "[5 rows x 15 columns]"
            ]
          },
          "metadata": {
            "tags": []
          },
          "execution_count": 142
        }
      ]
    },
    {
      "cell_type": "markdown",
      "metadata": {
        "id": "F-wRB2mE3aBm",
        "colab_type": "text"
      },
      "source": [
        "**From the above output, it is clear that we have duplicate records in our data. Let us deal with duplicates by removing them.**"
      ]
    },
    {
      "cell_type": "code",
      "metadata": {
        "id": "eUZ_qmFkKsb3",
        "colab_type": "code",
        "colab": {}
      },
      "source": [
        "df_train.drop_duplicates(keep='first',inplace=True)"
      ],
      "execution_count": 0,
      "outputs": []
    },
    {
      "cell_type": "markdown",
      "metadata": {
        "id": "aFJae913JT8m",
        "colab_type": "text"
      },
      "source": [
        "**From the output of describe(), we can see that at 75% of the data has capital-gain and capital-loss values as zero. Thus, we should drop these columns as they wouldn't help in predicting the income class.**"
      ]
    },
    {
      "cell_type": "code",
      "metadata": {
        "id": "GXziZMWJJEYu",
        "colab_type": "code",
        "colab": {}
      },
      "source": [
        "df_train.drop(labels=['capital-gain', 'capital-loss'], axis=1, inplace=True)"
      ],
      "execution_count": 0,
      "outputs": []
    },
    {
      "cell_type": "code",
      "metadata": {
        "id": "Bd01KtQOL7-a",
        "colab_type": "code",
        "colab": {
          "base_uri": "https://localhost:8080/",
          "height": 195
        },
        "outputId": "23d75c8c-4a58-4e6f-d72c-ec9baef8ef97"
      },
      "source": [
        "df_train.head()"
      ],
      "execution_count": 145,
      "outputs": [
        {
          "output_type": "execute_result",
          "data": {
            "text/html": [
              "<div>\n",
              "<style scoped>\n",
              "    .dataframe tbody tr th:only-of-type {\n",
              "        vertical-align: middle;\n",
              "    }\n",
              "\n",
              "    .dataframe tbody tr th {\n",
              "        vertical-align: top;\n",
              "    }\n",
              "\n",
              "    .dataframe thead th {\n",
              "        text-align: right;\n",
              "    }\n",
              "</style>\n",
              "<table border=\"1\" class=\"dataframe\">\n",
              "  <thead>\n",
              "    <tr style=\"text-align: right;\">\n",
              "      <th></th>\n",
              "      <th>age</th>\n",
              "      <th>workclass</th>\n",
              "      <th>fnlwgt</th>\n",
              "      <th>education</th>\n",
              "      <th>educational-num</th>\n",
              "      <th>marital-status</th>\n",
              "      <th>occupation</th>\n",
              "      <th>relationship</th>\n",
              "      <th>race</th>\n",
              "      <th>gender</th>\n",
              "      <th>hours-per-week</th>\n",
              "      <th>native-country</th>\n",
              "      <th>income</th>\n",
              "    </tr>\n",
              "  </thead>\n",
              "  <tbody>\n",
              "    <tr>\n",
              "      <th>0</th>\n",
              "      <td>25</td>\n",
              "      <td>Private</td>\n",
              "      <td>226802</td>\n",
              "      <td>11th</td>\n",
              "      <td>7</td>\n",
              "      <td>Never-married</td>\n",
              "      <td>Machine-op-inspct</td>\n",
              "      <td>Own-child</td>\n",
              "      <td>Black</td>\n",
              "      <td>Male</td>\n",
              "      <td>40</td>\n",
              "      <td>United-States</td>\n",
              "      <td>&lt;=50K</td>\n",
              "    </tr>\n",
              "    <tr>\n",
              "      <th>1</th>\n",
              "      <td>38</td>\n",
              "      <td>Private</td>\n",
              "      <td>89814</td>\n",
              "      <td>HS-grad</td>\n",
              "      <td>9</td>\n",
              "      <td>Married-civ-spouse</td>\n",
              "      <td>Farming-fishing</td>\n",
              "      <td>Husband</td>\n",
              "      <td>White</td>\n",
              "      <td>Male</td>\n",
              "      <td>50</td>\n",
              "      <td>United-States</td>\n",
              "      <td>&lt;=50K</td>\n",
              "    </tr>\n",
              "    <tr>\n",
              "      <th>2</th>\n",
              "      <td>28</td>\n",
              "      <td>Local-gov</td>\n",
              "      <td>336951</td>\n",
              "      <td>Assoc-acdm</td>\n",
              "      <td>12</td>\n",
              "      <td>Married-civ-spouse</td>\n",
              "      <td>Protective-serv</td>\n",
              "      <td>Husband</td>\n",
              "      <td>White</td>\n",
              "      <td>Male</td>\n",
              "      <td>40</td>\n",
              "      <td>United-States</td>\n",
              "      <td>&gt;50K</td>\n",
              "    </tr>\n",
              "    <tr>\n",
              "      <th>3</th>\n",
              "      <td>44</td>\n",
              "      <td>Private</td>\n",
              "      <td>160323</td>\n",
              "      <td>Some-college</td>\n",
              "      <td>10</td>\n",
              "      <td>Married-civ-spouse</td>\n",
              "      <td>Machine-op-inspct</td>\n",
              "      <td>Husband</td>\n",
              "      <td>Black</td>\n",
              "      <td>Male</td>\n",
              "      <td>40</td>\n",
              "      <td>United-States</td>\n",
              "      <td>&gt;50K</td>\n",
              "    </tr>\n",
              "    <tr>\n",
              "      <th>4</th>\n",
              "      <td>18</td>\n",
              "      <td>?</td>\n",
              "      <td>103497</td>\n",
              "      <td>Some-college</td>\n",
              "      <td>10</td>\n",
              "      <td>Never-married</td>\n",
              "      <td>?</td>\n",
              "      <td>Own-child</td>\n",
              "      <td>White</td>\n",
              "      <td>Female</td>\n",
              "      <td>30</td>\n",
              "      <td>United-States</td>\n",
              "      <td>&lt;=50K</td>\n",
              "    </tr>\n",
              "  </tbody>\n",
              "</table>\n",
              "</div>"
            ],
            "text/plain": [
              "   age  workclass  fnlwgt  ... hours-per-week  native-country income\n",
              "0   25    Private  226802  ...             40   United-States  <=50K\n",
              "1   38    Private   89814  ...             50   United-States  <=50K\n",
              "2   28  Local-gov  336951  ...             40   United-States   >50K\n",
              "3   44    Private  160323  ...             40   United-States   >50K\n",
              "4   18          ?  103497  ...             30   United-States  <=50K\n",
              "\n",
              "[5 rows x 13 columns]"
            ]
          },
          "metadata": {
            "tags": []
          },
          "execution_count": 145
        }
      ]
    },
    {
      "cell_type": "markdown",
      "metadata": {
        "id": "3u4NIjO2fDw-",
        "colab_type": "text"
      },
      "source": [
        "**Let us convert our class variable 'income' into a dummy variable column by replacing <=50K income as 0 and >50K income as 1.**"
      ]
    },
    {
      "cell_type": "code",
      "metadata": {
        "id": "CC9eC5jxeQIK",
        "colab_type": "code",
        "colab": {}
      },
      "source": [
        "df_train['income'].replace(['<=50K','>50K'],[0,1],inplace=True)"
      ],
      "execution_count": 0,
      "outputs": []
    },
    {
      "cell_type": "markdown",
      "metadata": {
        "id": "mfYhml9131UY",
        "colab_type": "text"
      },
      "source": [
        "**Exploring the 'Age' attribute:**"
      ]
    },
    {
      "cell_type": "code",
      "metadata": {
        "id": "blWIVGMUwHs5",
        "colab_type": "code",
        "colab": {
          "base_uri": "https://localhost:8080/",
          "height": 296
        },
        "outputId": "172d59e1-81c7-46b6-9b16-e9c732b23d21"
      },
      "source": [
        "sns.boxplot(x=df_train['income'], y=df_train['age'])"
      ],
      "execution_count": 148,
      "outputs": [
        {
          "output_type": "execute_result",
          "data": {
            "text/plain": [
              "<matplotlib.axes._subplots.AxesSubplot at 0x7fe15cde1b70>"
            ]
          },
          "metadata": {
            "tags": []
          },
          "execution_count": 148
        },
        {
          "output_type": "display_data",
          "data": {
            "image/png": "[encoded data removed]",
            "text/plain": [
              "<Figure size 432x288 with 1 Axes>"
            ]
          },
          "metadata": {
            "tags": [],
            "needs_background": "light"
          }
        }
      ]
    },
    {
      "cell_type": "markdown",
      "metadata": {
        "id": "3j-U6DRy368u",
        "colab_type": "text"
      },
      "source": [
        "**From the above result, we can see that median age of income <=50K is clearly lesser than median age of individuals who earn more than $50,000.**"
      ]
    },
    {
      "cell_type": "markdown",
      "metadata": {
        "id": "ReG9OWosMKia",
        "colab_type": "text"
      },
      "source": [
        "**From the data, we can see that education and educational-num represent the same thing in different ways. So, we could drop either column to avoid redundant data.**"
      ]
    },
    {
      "cell_type": "code",
      "metadata": {
        "id": "yRKJVLfZLgDc",
        "colab_type": "code",
        "colab": {}
      },
      "source": [
        "df_train.drop(labels=['educational-num'], axis=1, inplace=True)"
      ],
      "execution_count": 0,
      "outputs": []
    },
    {
      "cell_type": "code",
      "metadata": {
        "id": "Lv6holosMhHt",
        "colab_type": "code",
        "colab": {
          "base_uri": "https://localhost:8080/",
          "height": 302
        },
        "outputId": "5d5c1e49-773c-411d-f169-e292a313ef18"
      },
      "source": [
        "df_train.education.value_counts()"
      ],
      "execution_count": 150,
      "outputs": [
        {
          "output_type": "execute_result",
          "data": {
            "text/plain": [
              "HS-grad         15770\n",
              "Some-college    10863\n",
              "Bachelors        8013\n",
              "Masters          2656\n",
              "Assoc-voc        2060\n",
              "11th             1812\n",
              "Assoc-acdm       1601\n",
              "10th             1389\n",
              "7th-8th           954\n",
              "Prof-school       834\n",
              "9th               756\n",
              "12th              655\n",
              "Doctorate         594\n",
              "5th-6th           507\n",
              "1st-4th           245\n",
              "Preschool          81\n",
              "Name: education, dtype: int64"
            ]
          },
          "metadata": {
            "tags": []
          },
          "execution_count": 150
        }
      ]
    },
    {
      "cell_type": "markdown",
      "metadata": {
        "id": "oS1QJLBRMnWi",
        "colab_type": "text"
      },
      "source": [
        "**Now since we have so many education levels, we can group these into 3 categories - 1. NoDiploma - People who have not graduated high school. 2. HighSchoolGrad - People who have graduated high school but do not have any degree. 3. Graduated - Who at least have bachelor's or an associate degree.** "
      ]
    },
    {
      "cell_type": "code",
      "metadata": {
        "id": "ZRsKpifTRgL7",
        "colab_type": "code",
        "colab": {}
      },
      "source": [
        "df_train['education'].replace(['HS-grad','Some-college','Prof-school'],['HighSchoolGrad','HighSchoolGrad','HighSchoolGrad'],inplace=True)\n",
        "df_train['education'].replace(['Bachelors','Masters','Doctorate','Assoc-voc','Assoc-acdm'],['Graduated','Graduated','Graduated','Graduated','Graduated'],inplace=True)\n",
        "df_train['education'].replace(['Preschool','1st-4th','5th-6th','7th-8th','9th','10th','11th','12th'],['NoDiploma','NoDiploma','NoDiploma','NoDiploma','NoDiploma','NoDiploma','NoDiploma','NoDiploma'],inplace=True)"
      ],
      "execution_count": 0,
      "outputs": []
    },
    {
      "cell_type": "code",
      "metadata": {
        "id": "2vwM1aG0SO88",
        "colab_type": "code",
        "colab": {
          "base_uri": "https://localhost:8080/",
          "height": 282
        },
        "outputId": "a7891426-7098-426b-b45f-70036766da04"
      },
      "source": [
        "df_train['education'].value_counts().plot()"
      ],
      "execution_count": 152,
      "outputs": [
        {
          "output_type": "execute_result",
          "data": {
            "text/plain": [
              "<matplotlib.axes._subplots.AxesSubplot at 0x7fe15cdd99e8>"
            ]
          },
          "metadata": {
            "tags": []
          },
          "execution_count": 152
        },
        {
          "output_type": "display_data",
          "data": {
            "image/png": "[encoded data removed]",
            "text/plain": [
              "<Figure size 432x288 with 1 Axes>"
            ]
          },
          "metadata": {
            "tags": [],
            "needs_background": "light"
          }
        }
      ]
    },
    {
      "cell_type": "markdown",
      "metadata": {
        "id": "mnGi4a0E4sNZ",
        "colab_type": "text"
      },
      "source": [
        "**From the above plot, we can see that most of our census takers have completed their high school, followed by people who at least hold bachelor's degree.**"
      ]
    },
    {
      "cell_type": "code",
      "metadata": {
        "id": "fbHGqZhTd4q5",
        "colab_type": "code",
        "colab": {
          "base_uri": "https://localhost:8080/",
          "height": 296
        },
        "outputId": "b594dad6-7bc0-48aa-815c-98e985675963"
      },
      "source": [
        "import seaborn as sns\n",
        "sns.countplot(data=df_train, x='education', hue='income')"
      ],
      "execution_count": 153,
      "outputs": [
        {
          "output_type": "execute_result",
          "data": {
            "text/plain": [
              "<matplotlib.axes._subplots.AxesSubplot at 0x7fe15cd3a198>"
            ]
          },
          "metadata": {
            "tags": []
          },
          "execution_count": 153
        },
        {
          "output_type": "display_data",
          "data": {
            "image/png": "[encoded data removed]",
            "text/plain": [
              "<Figure size 432x288 with 1 Axes>"
            ]
          },
          "metadata": {
            "tags": [],
            "needs_background": "light"
          }
        }
      ]
    },
    {
      "cell_type": "markdown",
      "metadata": {
        "id": "vrJR_Nnq7LVP",
        "colab_type": "text"
      },
      "source": [
        "**From the above plot, we can notice that as education level increases from no diploma, to high school diploma, to graduates; the percentage of people with income > $50,000 also increases.**"
      ]
    },
    {
      "cell_type": "markdown",
      "metadata": {
        "id": "pS8iUDk0K5VD",
        "colab_type": "text"
      },
      "source": [
        "##**Dealing with Null values:**"
      ]
    },
    {
      "cell_type": "markdown",
      "metadata": {
        "id": "-8e7iAhxKr1Y",
        "colab_type": "text"
      },
      "source": [
        "**From above results, we can also note that Null values are represented by '?' sign. Thus, let us explore data in each of the attributes and deal with null values.**"
      ]
    },
    {
      "cell_type": "code",
      "metadata": {
        "id": "yqHfUB6cKO1J",
        "colab_type": "code",
        "colab": {
          "base_uri": "https://localhost:8080/",
          "height": 185
        },
        "outputId": "81543b7e-0b07-40cf-8c91-d4b4385e9923"
      },
      "source": [
        "df_train.workclass.value_counts()"
      ],
      "execution_count": 154,
      "outputs": [
        {
          "output_type": "execute_result",
          "data": {
            "text/plain": [
              "Private             33860\n",
              "Self-emp-not-inc     3861\n",
              "Local-gov            3136\n",
              "?                    2795\n",
              "State-gov            1981\n",
              "Self-emp-inc         1694\n",
              "Federal-gov          1432\n",
              "Without-pay            21\n",
              "Never-worked           10\n",
              "Name: workclass, dtype: int64"
            ]
          },
          "metadata": {
            "tags": []
          },
          "execution_count": 154
        }
      ]
    },
    {
      "cell_type": "markdown",
      "metadata": {
        "id": "VH_0fVPLYTmJ",
        "colab_type": "text"
      },
      "source": [
        "**About 70% of the population are employed in private sector and about only 5% of the data has nulls. Thus, we can replace '?' with 'Private'.**"
      ]
    },
    {
      "cell_type": "code",
      "metadata": {
        "id": "8sn9NF9xZWJK",
        "colab_type": "code",
        "colab": {}
      },
      "source": [
        "df_train['workclass'].replace('?','Private',inplace=True)"
      ],
      "execution_count": 0,
      "outputs": []
    },
    {
      "cell_type": "markdown",
      "metadata": {
        "id": "jer70O6KZ1QZ",
        "colab_type": "text"
      },
      "source": [
        "**Since we have 8 distinct workclass values, let us group all of them except 'Private' into 3 categories: 1. Unemployed 2. GovtEmployed 3. SelfEmployed.**"
      ]
    },
    {
      "cell_type": "code",
      "metadata": {
        "id": "RXgySWfKZx29",
        "colab_type": "code",
        "colab": {}
      },
      "source": [
        "df_train['workclass'].replace(['Self-emp-not-inc','Self-emp-inc'],['SelfEmployed','SelfEmployed'],inplace=True)\n",
        "df_train['workclass'].replace(['Local-gov','State-gov','Federal-gov'],['GovtEmployed','GovtEmployed','GovtEmployed'],inplace=True)\n",
        "df_train['workclass'].replace(['Without-pay','Never-worked'],['Unemployed','Unemployed'],inplace=True)"
      ],
      "execution_count": 0,
      "outputs": []
    },
    {
      "cell_type": "code",
      "metadata": {
        "id": "P1ptt1RabpSO",
        "colab_type": "code",
        "colab": {
          "base_uri": "https://localhost:8080/",
          "height": 282
        },
        "outputId": "2e7248bd-8553-4553-dbaa-7b29123153c1"
      },
      "source": [
        "df_train.workclass.value_counts().plot()"
      ],
      "execution_count": 157,
      "outputs": [
        {
          "output_type": "execute_result",
          "data": {
            "text/plain": [
              "<matplotlib.axes._subplots.AxesSubplot at 0x7fe15cdcbac8>"
            ]
          },
          "metadata": {
            "tags": []
          },
          "execution_count": 157
        },
        {
          "output_type": "display_data",
          "data": {
            "image/png": "[encoded data removed]",
            "text/plain": [
              "<Figure size 432x288 with 1 Axes>"
            ]
          },
          "metadata": {
            "tags": [],
            "needs_background": "light"
          }
        }
      ]
    },
    {
      "cell_type": "markdown",
      "metadata": {
        "id": "W6YXCJqw8LxV",
        "colab_type": "text"
      },
      "source": [
        "**Most of our population is employed in private sector, followed by government jobs and them self-employed.**"
      ]
    },
    {
      "cell_type": "code",
      "metadata": {
        "id": "spv5PWn6fjUV",
        "colab_type": "code",
        "colab": {
          "base_uri": "https://localhost:8080/",
          "height": 297
        },
        "outputId": "900a86a8-0659-4d9e-aebc-5644a64b1b27"
      },
      "source": [
        "sns.countplot(data=df_train, x='workclass', hue='income')"
      ],
      "execution_count": 158,
      "outputs": [
        {
          "output_type": "execute_result",
          "data": {
            "text/plain": [
              "<matplotlib.axes._subplots.AxesSubplot at 0x7fe15cd2b080>"
            ]
          },
          "metadata": {
            "tags": []
          },
          "execution_count": 158
        },
        {
          "output_type": "display_data",
          "data": {
            "image/png": "[encoded data removed]",
            "text/plain": [
              "<Figure size 432x288 with 1 Axes>"
            ]
          },
          "metadata": {
            "tags": [],
            "needs_background": "light"
          }
        }
      ]
    },
    {
      "cell_type": "markdown",
      "metadata": {
        "id": "YCbijje78ZUS",
        "colab_type": "text"
      },
      "source": [
        "**At least 50% of government and self employed people earn more than $50,000 per year. The same is not true about the private sector employees.**"
      ]
    },
    {
      "cell_type": "markdown",
      "metadata": {
        "id": "b3xCNz_Zg3vg",
        "colab_type": "text"
      },
      "source": [
        "**Now that we have dealt with 'workclass' variable, let us move on and explore the next variable - marital-status.**"
      ]
    },
    {
      "cell_type": "code",
      "metadata": {
        "id": "wLcQg4Cpg1_H",
        "colab_type": "code",
        "colab": {
          "base_uri": "https://localhost:8080/",
          "height": 151
        },
        "outputId": "f2997096-277b-44ff-eb01-4b666801d113"
      },
      "source": [
        "df_train['marital-status'].value_counts()"
      ],
      "execution_count": 159,
      "outputs": [
        {
          "output_type": "execute_result",
          "data": {
            "text/plain": [
              "Married-civ-spouse       22366\n",
              "Never-married            16082\n",
              "Divorced                  6630\n",
              "Separated                 1530\n",
              "Widowed                   1518\n",
              "Married-spouse-absent      627\n",
              "Married-AF-spouse           37\n",
              "Name: marital-status, dtype: int64"
            ]
          },
          "metadata": {
            "tags": []
          },
          "execution_count": 159
        }
      ]
    },
    {
      "cell_type": "markdown",
      "metadata": {
        "id": "yiPdmEi4jMrj",
        "colab_type": "text"
      },
      "source": [
        "**From the above result, we can see that there are no nulls in 'marital status' column. However, there are 7 distinct values. Thus, we can group them into - Married, Single.**"
      ]
    },
    {
      "cell_type": "code",
      "metadata": {
        "id": "z7C9aa5QkLZg",
        "colab_type": "code",
        "colab": {}
      },
      "source": [
        "df_train['marital-status'].replace(['Married-civ-spouse','Married-spouse-absent', 'Married-AF-spouse'],['Married','Married','Married'],inplace=True)\n",
        "df_train['marital-status'].replace(['Never-married','Divorced', 'Separated', 'Widowed'],['Single','Single','Single','Single'],inplace=True)"
      ],
      "execution_count": 0,
      "outputs": []
    },
    {
      "cell_type": "code",
      "metadata": {
        "id": "e2liRxMAf74S",
        "colab_type": "code",
        "colab": {
          "base_uri": "https://localhost:8080/",
          "height": 297
        },
        "outputId": "d42f688b-add2-4b18-e746-35d532002075"
      },
      "source": [
        "sns.countplot(data=df_train, x='marital-status', hue='income')"
      ],
      "execution_count": 161,
      "outputs": [
        {
          "output_type": "execute_result",
          "data": {
            "text/plain": [
              "<matplotlib.axes._subplots.AxesSubplot at 0x7fe15cd99400>"
            ]
          },
          "metadata": {
            "tags": []
          },
          "execution_count": 161
        },
        {
          "output_type": "display_data",
          "data": {
            "image/png": "[encoded data removed]",
            "text/plain": [
              "<Figure size 432x288 with 1 Axes>"
            ]
          },
          "metadata": {
            "tags": [],
            "needs_background": "light"
          }
        }
      ]
    },
    {
      "cell_type": "markdown",
      "metadata": {
        "id": "wQnFazpt81Nv",
        "colab_type": "text"
      },
      "source": [
        "**From the above output, we can see that almost equal amount of married people earn lesser than and greater than 50K. However, most of the single people earn <=50K.**"
      ]
    },
    {
      "cell_type": "markdown",
      "metadata": {
        "id": "7Dzx4fX5EEJC",
        "colab_type": "text"
      },
      "source": [
        "**Let us now move ahead with Country attribute.**"
      ]
    },
    {
      "cell_type": "code",
      "metadata": {
        "id": "ifAXYSpWEKi_",
        "colab_type": "code",
        "colab": {
          "base_uri": "https://localhost:8080/",
          "height": 739
        },
        "outputId": "99d8f092-9faf-48dd-9935-3342dfb734c6"
      },
      "source": [
        "df_train['native-country'].value_counts()"
      ],
      "execution_count": 162,
      "outputs": [
        {
          "output_type": "execute_result",
          "data": {
            "text/plain": [
              "United-States                 43792\n",
              "Mexico                          943\n",
              "?                               856\n",
              "Philippines                     294\n",
              "Germany                         206\n",
              "Puerto-Rico                     184\n",
              "Canada                          182\n",
              "El-Salvador                     155\n",
              "India                           151\n",
              "Cuba                            138\n",
              "England                         127\n",
              "China                           122\n",
              "South                           115\n",
              "Jamaica                         106\n",
              "Italy                           105\n",
              "Dominican-Republic              103\n",
              "Japan                            92\n",
              "Poland                           87\n",
              "Vietnam                          86\n",
              "Guatemala                        86\n",
              "Columbia                         85\n",
              "Haiti                            75\n",
              "Portugal                         67\n",
              "Taiwan                           65\n",
              "Iran                             59\n",
              "Greece                           49\n",
              "Nicaragua                        49\n",
              "Peru                             46\n",
              "Ecuador                          45\n",
              "France                           38\n",
              "Ireland                          37\n",
              "Hong                             30\n",
              "Thailand                         30\n",
              "Cambodia                         28\n",
              "Trinadad&Tobago                  27\n",
              "Outlying-US(Guam-USVI-etc)       23\n",
              "Laos                             23\n",
              "Yugoslavia                       23\n",
              "Scotland                         21\n",
              "Honduras                         20\n",
              "Hungary                          19\n",
              "Holand-Netherlands                1\n",
              "Name: native-country, dtype: int64"
            ]
          },
          "metadata": {
            "tags": []
          },
          "execution_count": 162
        }
      ]
    },
    {
      "cell_type": "markdown",
      "metadata": {
        "id": "B1KSQLb8EmOO",
        "colab_type": "text"
      },
      "source": [
        "**Since we have over 20 countries and 90% of of our data is from United States, we could just retain US data and perform classification over it and delete the native-country column.**"
      ]
    },
    {
      "cell_type": "code",
      "metadata": {
        "id": "fz7BbXqbE4qy",
        "colab_type": "code",
        "colab": {}
      },
      "source": [
        "df_train = df_train[df_train['native-country'] == 'United-States']"
      ],
      "execution_count": 0,
      "outputs": []
    },
    {
      "cell_type": "code",
      "metadata": {
        "id": "I2pWQxrZPSZT",
        "colab_type": "code",
        "colab": {}
      },
      "source": [
        "df_train.drop(labels=['native-country'], axis=1, inplace=True)"
      ],
      "execution_count": 0,
      "outputs": []
    },
    {
      "cell_type": "markdown",
      "metadata": {
        "id": "D2eWRAoUk0RM",
        "colab_type": "text"
      },
      "source": [
        "**Let us now move ahead with the next attribute - occupation.**"
      ]
    },
    {
      "cell_type": "code",
      "metadata": {
        "id": "aDmqQbRCkzPh",
        "colab_type": "code",
        "colab": {
          "base_uri": "https://localhost:8080/",
          "height": 286
        },
        "outputId": "cefd242e-580c-4237-bb62-1086d13ed3c5"
      },
      "source": [
        "df_train.occupation.value_counts()"
      ],
      "execution_count": 165,
      "outputs": [
        {
          "output_type": "execute_result",
          "data": {
            "text/plain": [
              "Exec-managerial      5602\n",
              "Prof-specialty       5500\n",
              "Craft-repair         5496\n",
              "Adm-clerical         5135\n",
              "Sales                5075\n",
              "Other-service        4180\n",
              "Machine-op-inspct    2557\n",
              "?                    2536\n",
              "Transport-moving     2184\n",
              "Handlers-cleaners    1808\n",
              "Tech-support         1327\n",
              "Farming-fishing      1303\n",
              "Protective-serv       921\n",
              "Priv-house-serv       154\n",
              "Armed-Forces           14\n",
              "Name: occupation, dtype: int64"
            ]
          },
          "metadata": {
            "tags": []
          },
          "execution_count": 165
        }
      ]
    },
    {
      "cell_type": "markdown",
      "metadata": {
        "id": "B0_JiZVv57a5",
        "colab_type": "text"
      },
      "source": [
        "**We have 14 distinct occupation types and about 5% of them have null values. So let us remove the nulls by replacing with mode occupation and deal with 14 distinct occupations to reduce them to - Service, waged and salaried.**"
      ]
    },
    {
      "cell_type": "code",
      "metadata": {
        "id": "2KHgt7yQ98fX",
        "colab_type": "code",
        "colab": {}
      },
      "source": [
        "df_train['occupation'].replace('?','Exec-managerial',inplace=True)"
      ],
      "execution_count": 0,
      "outputs": []
    },
    {
      "cell_type": "code",
      "metadata": {
        "id": "dba9RdSm_QXP",
        "colab_type": "code",
        "colab": {}
      },
      "source": [
        "df_train['occupation'].replace(['Tech-support','Priv-house-serv', 'Protective-serv', 'Other-service'],['Service','Service','Service','Service'],inplace=True)\n",
        "df_train['occupation'].replace(['Farming-fishing','Handlers-cleaners', 'Transport-moving', 'Machine-op-inspct','Adm-clerical','Craft-repair'],['Waged','Waged','Waged','Waged','Waged','Waged'],inplace=True)\n",
        "df_train['occupation'].replace(['Exec-managerial','Prof-specialty', 'Sales', 'Armed-Forces'],['Salaried','Salaried','Salaried','Salaried'],inplace=True)"
      ],
      "execution_count": 0,
      "outputs": []
    },
    {
      "cell_type": "code",
      "metadata": {
        "id": "J03-oiJFgMIC",
        "colab_type": "code",
        "colab": {
          "base_uri": "https://localhost:8080/",
          "height": 298
        },
        "outputId": "8b2c1dc3-3c24-49c6-baf0-721e36a7fa67"
      },
      "source": [
        "sns.countplot(data=df_train, x='occupation', hue='income')"
      ],
      "execution_count": 168,
      "outputs": [
        {
          "output_type": "execute_result",
          "data": {
            "text/plain": [
              "<matplotlib.axes._subplots.AxesSubplot at 0x7fe15cb644e0>"
            ]
          },
          "metadata": {
            "tags": []
          },
          "execution_count": 168
        },
        {
          "output_type": "display_data",
          "data": {
            "image/png": "[encoded data removed]",
            "text/plain": [
              "<Figure size 432x288 with 1 Axes>"
            ]
          },
          "metadata": {
            "tags": [],
            "needs_background": "light"
          }
        }
      ]
    },
    {
      "cell_type": "markdown",
      "metadata": {
        "id": "qoLw2HTZ9Jci",
        "colab_type": "text"
      },
      "source": [
        "**From the above plot, it is clear that most of the individuals earning >50K are salaried employees.**"
      ]
    },
    {
      "cell_type": "markdown",
      "metadata": {
        "id": "K19yA0L9AuHf",
        "colab_type": "text"
      },
      "source": [
        "**Let us move ahead to explore 'relationship' attribute.**"
      ]
    },
    {
      "cell_type": "code",
      "metadata": {
        "id": "PBmr_bH8CyML",
        "colab_type": "code",
        "colab": {
          "base_uri": "https://localhost:8080/",
          "height": 134
        },
        "outputId": "45528c01-a3d5-43eb-bb5e-1f497265e438"
      },
      "source": [
        "df_train.relationship.value_counts()"
      ],
      "execution_count": 169,
      "outputs": [
        {
          "output_type": "execute_result",
          "data": {
            "text/plain": [
              "Husband           17720\n",
              "Not-in-family     11401\n",
              "Own-child          7021\n",
              "Unmarried          4526\n",
              "Wife               2045\n",
              "Other-relative     1079\n",
              "Name: relationship, dtype: int64"
            ]
          },
          "metadata": {
            "tags": []
          },
          "execution_count": 169
        }
      ]
    },
    {
      "cell_type": "markdown",
      "metadata": {
        "id": "lcwH2FRdC2fv",
        "colab_type": "text"
      },
      "source": [
        "**There are no null values in relationship. However, there are 6 distinct relationship types. We could cut these down to two categories - related and single.**"
      ]
    },
    {
      "cell_type": "code",
      "metadata": {
        "id": "9kja8-wWDX53",
        "colab_type": "code",
        "colab": {}
      },
      "source": [
        "df_train['relationship'].replace(['Husband','Wife', 'Other-relative'],['Related','Related','Related'],inplace=True)\n",
        "df_train['relationship'].replace(['Not-in-family','Own-child', 'Unmarried'],['Single','Single','Single'],inplace=True)"
      ],
      "execution_count": 0,
      "outputs": []
    },
    {
      "cell_type": "code",
      "metadata": {
        "id": "kRM1Pr8_gaUz",
        "colab_type": "code",
        "colab": {
          "base_uri": "https://localhost:8080/",
          "height": 296
        },
        "outputId": "00420a3c-f5d6-4b37-cced-18185a1780ac"
      },
      "source": [
        "sns.countplot(data=df_train, x='relationship', hue='income')"
      ],
      "execution_count": 171,
      "outputs": [
        {
          "output_type": "execute_result",
          "data": {
            "text/plain": [
              "<matplotlib.axes._subplots.AxesSubplot at 0x7fe15cb5ae80>"
            ]
          },
          "metadata": {
            "tags": []
          },
          "execution_count": 171
        },
        {
          "output_type": "display_data",
          "data": {
            "image/png": "[encoded data removed]",
            "text/plain": [
              "<Figure size 432x288 with 1 Axes>"
            ]
          },
          "metadata": {
            "tags": [],
            "needs_background": "light"
          }
        }
      ]
    },
    {
      "cell_type": "markdown",
      "metadata": {
        "id": "_0sx1hnb9Wvb",
        "colab_type": "text"
      },
      "source": [
        "**Most of the individuals earning >50K are related to others - be it by being married or as other relatives.**"
      ]
    },
    {
      "cell_type": "markdown",
      "metadata": {
        "id": "h6HwsZ-oD1Hp",
        "colab_type": "text"
      },
      "source": [
        "**Moving on to explore 'race' attribute:**"
      ]
    },
    {
      "cell_type": "code",
      "metadata": {
        "id": "zgfVgXBYEBre",
        "colab_type": "code",
        "colab": {
          "base_uri": "https://localhost:8080/",
          "height": 118
        },
        "outputId": "02772580-0bc1-4abc-faf1-c3f68584e43b"
      },
      "source": [
        "df_train.race.value_counts()"
      ],
      "execution_count": 172,
      "outputs": [
        {
          "output_type": "execute_result",
          "data": {
            "text/plain": [
              "White                 38455\n",
              "Black                  4268\n",
              "Amer-Indian-Eskimo      452\n",
              "Asian-Pac-Islander      428\n",
              "Other                   189\n",
              "Name: race, dtype: int64"
            ]
          },
          "metadata": {
            "tags": []
          },
          "execution_count": 172
        }
      ]
    },
    {
      "cell_type": "markdown",
      "metadata": {
        "id": "H5fJAwIuENQy",
        "colab_type": "text"
      },
      "source": [
        "**There are no nulls in this column. However, there are 5 distinct race values. We can simply club Amer-Indian-Eskimo, Asian-Pac-Islander into the 'Other' category too.**"
      ]
    },
    {
      "cell_type": "code",
      "metadata": {
        "id": "G5F8KMQmEk_F",
        "colab_type": "code",
        "colab": {}
      },
      "source": [
        "df_train['race'].replace(['Amer-Indian-Eskimo','Asian-Pac-Islander'],['Other','Other'],inplace=True)"
      ],
      "execution_count": 0,
      "outputs": []
    },
    {
      "cell_type": "code",
      "metadata": {
        "id": "0eBxz8WHgloO",
        "colab_type": "code",
        "colab": {
          "base_uri": "https://localhost:8080/",
          "height": 285
        },
        "outputId": "47051c77-5bf1-4dfb-eb26-bbe705c25d46"
      },
      "source": [
        "df_train.race.value_counts().plot()"
      ],
      "execution_count": 174,
      "outputs": [
        {
          "output_type": "execute_result",
          "data": {
            "text/plain": [
              "<matplotlib.axes._subplots.AxesSubplot at 0x7fe15cb104e0>"
            ]
          },
          "metadata": {
            "tags": []
          },
          "execution_count": 174
        },
        {
          "output_type": "display_data",
          "data": {
            "image/png": "[encoded data removed]",
            "text/plain": [
              "<Figure size 432x288 with 1 Axes>"
            ]
          },
          "metadata": {
            "tags": [],
            "needs_background": "light"
          }
        }
      ]
    },
    {
      "cell_type": "code",
      "metadata": {
        "id": "lu3w9JPKgkrW",
        "colab_type": "code",
        "colab": {
          "base_uri": "https://localhost:8080/",
          "height": 296
        },
        "outputId": "e18dfa8e-57f7-4e39-8dd8-621f08a0c17f"
      },
      "source": [
        "sns.countplot(data=df_train, x='race', hue='income')"
      ],
      "execution_count": 175,
      "outputs": [
        {
          "output_type": "execute_result",
          "data": {
            "text/plain": [
              "<matplotlib.axes._subplots.AxesSubplot at 0x7fe15ca2ada0>"
            ]
          },
          "metadata": {
            "tags": []
          },
          "execution_count": 175
        },
        {
          "output_type": "display_data",
          "data": {
            "image/png": "[encoded data removed]",
            "text/plain": [
              "<Figure size 432x288 with 1 Axes>"
            ]
          },
          "metadata": {
            "tags": [],
            "needs_background": "light"
          }
        }
      ]
    },
    {
      "cell_type": "markdown",
      "metadata": {
        "id": "uB_Gxidf9j3t",
        "colab_type": "text"
      },
      "source": [
        "**From above two plots, we can see that most of the population is white. In other races, very less percentage of them have income >50K.**"
      ]
    },
    {
      "cell_type": "markdown",
      "metadata": {
        "id": "WdIHz-kTE2O8",
        "colab_type": "text"
      },
      "source": [
        "**Exploring the 'gender' column:**"
      ]
    },
    {
      "cell_type": "code",
      "metadata": {
        "id": "iudzrrZeE57w",
        "colab_type": "code",
        "colab": {
          "base_uri": "https://localhost:8080/",
          "height": 67
        },
        "outputId": "702ad031-422f-4ce4-893e-b14a916b110e"
      },
      "source": [
        "df_train.gender.value_counts()"
      ],
      "execution_count": 176,
      "outputs": [
        {
          "output_type": "execute_result",
          "data": {
            "text/plain": [
              "Male      29196\n",
              "Female    14596\n",
              "Name: gender, dtype: int64"
            ]
          },
          "metadata": {
            "tags": []
          },
          "execution_count": 176
        }
      ]
    },
    {
      "cell_type": "code",
      "metadata": {
        "id": "dllrnEISg641",
        "colab_type": "code",
        "colab": {
          "base_uri": "https://localhost:8080/",
          "height": 296
        },
        "outputId": "e10d6859-0b73-47ed-f5ae-1929624312ff"
      },
      "source": [
        "sns.countplot(data=df_train, x='gender', hue='income')"
      ],
      "execution_count": 177,
      "outputs": [
        {
          "output_type": "execute_result",
          "data": {
            "text/plain": [
              "<matplotlib.axes._subplots.AxesSubplot at 0x7fe15ec3d048>"
            ]
          },
          "metadata": {
            "tags": []
          },
          "execution_count": 177
        },
        {
          "output_type": "display_data",
          "data": {
            "image/png": "[encoded data removed]",
            "text/plain": [
              "<Figure size 432x288 with 1 Axes>"
            ]
          },
          "metadata": {
            "tags": [],
            "needs_background": "light"
          }
        }
      ]
    },
    {
      "cell_type": "markdown",
      "metadata": {
        "id": "ypGuO4Km92cV",
        "colab_type": "text"
      },
      "source": [
        "**About 1/3rd men population earn >50K. However, about only 15% of women earn >50K.**"
      ]
    },
    {
      "cell_type": "markdown",
      "metadata": {
        "id": "QJuAQM2_FCBb",
        "colab_type": "text"
      },
      "source": [
        "**Column 'fnlwgt' tells the number of people the census takers believe that observation represents. This does not really impact in the identifying if the census-taker will have salary above 50k. Thus, we can drop this column.**"
      ]
    },
    {
      "cell_type": "code",
      "metadata": {
        "id": "LBxS45J3FVLb",
        "colab_type": "code",
        "colab": {}
      },
      "source": [
        "df_train.drop(labels=['fnlwgt'], axis=1, inplace=True)"
      ],
      "execution_count": 0,
      "outputs": []
    },
    {
      "cell_type": "markdown",
      "metadata": {
        "id": "koNANdeUJCYq",
        "colab_type": "text"
      },
      "source": [
        "##**One Hot Encoding:**"
      ]
    },
    {
      "cell_type": "code",
      "metadata": {
        "id": "5NKanJXHJJrw",
        "colab_type": "code",
        "colab": {
          "base_uri": "https://localhost:8080/",
          "height": 249
        },
        "outputId": "615b4cdb-311d-409f-852d-515e0164cbac"
      },
      "source": [
        "dummyVar=['workclass','education','marital-status','occupation','relationship','race','gender']\n",
        "df_train = pd.get_dummies(df_train, columns=dummyVar, prefix_sep=\"-\")\n",
        "df_train.head()"
      ],
      "execution_count": 179,
      "outputs": [
        {
          "output_type": "execute_result",
          "data": {
            "text/html": [
              "<div>\n",
              "<style scoped>\n",
              "    .dataframe tbody tr th:only-of-type {\n",
              "        vertical-align: middle;\n",
              "    }\n",
              "\n",
              "    .dataframe tbody tr th {\n",
              "        vertical-align: top;\n",
              "    }\n",
              "\n",
              "    .dataframe thead th {\n",
              "        text-align: right;\n",
              "    }\n",
              "</style>\n",
              "<table border=\"1\" class=\"dataframe\">\n",
              "  <thead>\n",
              "    <tr style=\"text-align: right;\">\n",
              "      <th></th>\n",
              "      <th>age</th>\n",
              "      <th>hours-per-week</th>\n",
              "      <th>income</th>\n",
              "      <th>workclass-GovtEmployed</th>\n",
              "      <th>workclass-Private</th>\n",
              "      <th>workclass-SelfEmployed</th>\n",
              "      <th>workclass-Unemployed</th>\n",
              "      <th>education-Graduated</th>\n",
              "      <th>education-HighSchoolGrad</th>\n",
              "      <th>education-NoDiploma</th>\n",
              "      <th>marital-status-Married</th>\n",
              "      <th>marital-status-Single</th>\n",
              "      <th>occupation-Salaried</th>\n",
              "      <th>occupation-Service</th>\n",
              "      <th>occupation-Waged</th>\n",
              "      <th>relationship-Related</th>\n",
              "      <th>relationship-Single</th>\n",
              "      <th>race-Black</th>\n",
              "      <th>race-Other</th>\n",
              "      <th>race-White</th>\n",
              "      <th>gender-Female</th>\n",
              "      <th>gender-Male</th>\n",
              "    </tr>\n",
              "  </thead>\n",
              "  <tbody>\n",
              "    <tr>\n",
              "      <th>0</th>\n",
              "      <td>25</td>\n",
              "      <td>40</td>\n",
              "      <td>0</td>\n",
              "      <td>0</td>\n",
              "      <td>1</td>\n",
              "      <td>0</td>\n",
              "      <td>0</td>\n",
              "      <td>0</td>\n",
              "      <td>0</td>\n",
              "      <td>1</td>\n",
              "      <td>0</td>\n",
              "      <td>1</td>\n",
              "      <td>0</td>\n",
              "      <td>0</td>\n",
              "      <td>1</td>\n",
              "      <td>0</td>\n",
              "      <td>1</td>\n",
              "      <td>1</td>\n",
              "      <td>0</td>\n",
              "      <td>0</td>\n",
              "      <td>0</td>\n",
              "      <td>1</td>\n",
              "    </tr>\n",
              "    <tr>\n",
              "      <th>1</th>\n",
              "      <td>38</td>\n",
              "      <td>50</td>\n",
              "      <td>0</td>\n",
              "      <td>0</td>\n",
              "      <td>1</td>\n",
              "      <td>0</td>\n",
              "      <td>0</td>\n",
              "      <td>0</td>\n",
              "      <td>1</td>\n",
              "      <td>0</td>\n",
              "      <td>1</td>\n",
              "      <td>0</td>\n",
              "      <td>0</td>\n",
              "      <td>0</td>\n",
              "      <td>1</td>\n",
              "      <td>1</td>\n",
              "      <td>0</td>\n",
              "      <td>0</td>\n",
              "      <td>0</td>\n",
              "      <td>1</td>\n",
              "      <td>0</td>\n",
              "      <td>1</td>\n",
              "    </tr>\n",
              "    <tr>\n",
              "      <th>2</th>\n",
              "      <td>28</td>\n",
              "      <td>40</td>\n",
              "      <td>1</td>\n",
              "      <td>1</td>\n",
              "      <td>0</td>\n",
              "      <td>0</td>\n",
              "      <td>0</td>\n",
              "      <td>1</td>\n",
              "      <td>0</td>\n",
              "      <td>0</td>\n",
              "      <td>1</td>\n",
              "      <td>0</td>\n",
              "      <td>0</td>\n",
              "      <td>1</td>\n",
              "      <td>0</td>\n",
              "      <td>1</td>\n",
              "      <td>0</td>\n",
              "      <td>0</td>\n",
              "      <td>0</td>\n",
              "      <td>1</td>\n",
              "      <td>0</td>\n",
              "      <td>1</td>\n",
              "    </tr>\n",
              "    <tr>\n",
              "      <th>3</th>\n",
              "      <td>44</td>\n",
              "      <td>40</td>\n",
              "      <td>1</td>\n",
              "      <td>0</td>\n",
              "      <td>1</td>\n",
              "      <td>0</td>\n",
              "      <td>0</td>\n",
              "      <td>0</td>\n",
              "      <td>1</td>\n",
              "      <td>0</td>\n",
              "      <td>1</td>\n",
              "      <td>0</td>\n",
              "      <td>0</td>\n",
              "      <td>0</td>\n",
              "      <td>1</td>\n",
              "      <td>1</td>\n",
              "      <td>0</td>\n",
              "      <td>1</td>\n",
              "      <td>0</td>\n",
              "      <td>0</td>\n",
              "      <td>0</td>\n",
              "      <td>1</td>\n",
              "    </tr>\n",
              "    <tr>\n",
              "      <th>4</th>\n",
              "      <td>18</td>\n",
              "      <td>30</td>\n",
              "      <td>0</td>\n",
              "      <td>0</td>\n",
              "      <td>1</td>\n",
              "      <td>0</td>\n",
              "      <td>0</td>\n",
              "      <td>0</td>\n",
              "      <td>1</td>\n",
              "      <td>0</td>\n",
              "      <td>0</td>\n",
              "      <td>1</td>\n",
              "      <td>1</td>\n",
              "      <td>0</td>\n",
              "      <td>0</td>\n",
              "      <td>0</td>\n",
              "      <td>1</td>\n",
              "      <td>0</td>\n",
              "      <td>0</td>\n",
              "      <td>1</td>\n",
              "      <td>1</td>\n",
              "      <td>0</td>\n",
              "    </tr>\n",
              "  </tbody>\n",
              "</table>\n",
              "</div>"
            ],
            "text/plain": [
              "   age  hours-per-week  income  ...  race-White  gender-Female  gender-Male\n",
              "0   25              40       0  ...           0              0            1\n",
              "1   38              50       0  ...           1              0            1\n",
              "2   28              40       1  ...           1              0            1\n",
              "3   44              40       1  ...           0              0            1\n",
              "4   18              30       0  ...           1              1            0\n",
              "\n",
              "[5 rows x 22 columns]"
            ]
          },
          "metadata": {
            "tags": []
          },
          "execution_count": 179
        }
      ]
    },
    {
      "cell_type": "markdown",
      "metadata": {
        "id": "ZIC_5r1eLj5s",
        "colab_type": "text"
      },
      "source": [
        "**Now, let us move ahead with splitting the data into training set and testing set before moving ahead with implementation of algorithms. I am using 70% of the data for training purpose and the rest 30% of it for validation purpose.**"
      ]
    },
    {
      "cell_type": "code",
      "metadata": {
        "id": "qeUGARMPLqZd",
        "colab_type": "code",
        "colab": {}
      },
      "source": [
        "X = df_train.drop('income', axis=1)\n",
        "y = df_train['income']\n",
        "X_train, X_test, y_train, y_test = train_test_split(X, y, test_size=0.3, random_state=16)"
      ],
      "execution_count": 0,
      "outputs": []
    },
    {
      "cell_type": "markdown",
      "metadata": {
        "id": "rggh7xdRLam8",
        "colab_type": "text"
      },
      "source": [
        "##**Logistic Regression**"
      ]
    },
    {
      "cell_type": "markdown",
      "metadata": {
        "id": "gMeBz4LgLecd",
        "colab_type": "text"
      },
      "source": [
        "**Since this is classification problem with two categories in the class variable, I am choosing logistic regression as my base model.**"
      ]
    },
    {
      "cell_type": "code",
      "metadata": {
        "id": "m4LK9Q8_LgWb",
        "colab_type": "code",
        "colab": {
          "base_uri": "https://localhost:8080/",
          "height": 34
        },
        "outputId": "c7af973b-49b7-4508-cc19-d4397f9e27e6"
      },
      "source": [
        "logr_pipe = make_pipeline(StandardScaler(), LogisticRegression(solver='lbfgs'))\n",
        "logr_pipe.fit(X_train,y_train)\n",
        "y_pred = logr_pipe.predict(X_test)\n",
        "print(accuracy_score(y_test, y_pred))"
      ],
      "execution_count": 181,
      "outputs": [
        {
          "output_type": "stream",
          "text": [
            "0.816105952199726\n"
          ],
          "name": "stdout"
        }
      ]
    },
    {
      "cell_type": "markdown",
      "metadata": {
        "id": "qDittAtNL-_l",
        "colab_type": "text"
      },
      "source": [
        "**Hyperparameter tuning:**"
      ]
    },
    {
      "cell_type": "code",
      "metadata": {
        "id": "KjBZT6ZIMCC0",
        "colab_type": "code",
        "colab": {
          "base_uri": "https://localhost:8080/",
          "height": 34
        },
        "outputId": "5577b185-98e8-48e4-fdbb-e8896ef7d2d3"
      },
      "source": [
        "logr= LogisticRegression()\n",
        "parametersLogr = {'penalty':['l1','l2','elasticnet','none'],'solver': ['liblinear','newton-cg','lbfgs','sag','saga'],'C':[0.01,0.1,1,11.1], 'multi_class':['auto', 'ovr', 'multinomial']}\n",
        "logr_grid = GridSearchCV(logr, parametersLogr, n_jobs=-1, cv=4)\n",
        "\n",
        "logr_grid.fit(X_train,y_train)\n",
        "logr_grid.best_params_"
      ],
      "execution_count": 69,
      "outputs": [
        {
          "output_type": "execute_result",
          "data": {
            "text/plain": [
              "{'C': 0.01, 'multi_class': 'auto', 'penalty': 'l2', 'solver': 'liblinear'}"
            ]
          },
          "metadata": {
            "tags": []
          },
          "execution_count": 69
        }
      ]
    },
    {
      "cell_type": "markdown",
      "metadata": {
        "id": "iZk4hcy6Mgx5",
        "colab_type": "text"
      },
      "source": [
        "**Applying the best achieved parameters to predict the testing set.**"
      ]
    },
    {
      "cell_type": "code",
      "metadata": {
        "id": "SVTGhMiyMfog",
        "colab_type": "code",
        "colab": {
          "base_uri": "https://localhost:8080/",
          "height": 34
        },
        "outputId": "dc25ebc7-ee32-401e-d2f5-b65240b346a4"
      },
      "source": [
        "finalLogr = LogisticRegression(C=0.01, multi_class='auto', penalty='l2', solver='liblinear')\n",
        "finalLogr.fit(X_train,y_train)\n",
        "y_pred = finalLogr.predict(X_test)\n",
        "print(accuracy_score(y_test, y_pred))"
      ],
      "execution_count": 182,
      "outputs": [
        {
          "output_type": "stream",
          "text": [
            "0.8162581823717461\n"
          ],
          "name": "stdout"
        }
      ]
    },
    {
      "cell_type": "markdown",
      "metadata": {
        "id": "70CUT-vZMtnM",
        "colab_type": "text"
      },
      "source": [
        "**I created a logistic regression pipeline with lbfgs solver and also performed hyperparameter tuning using gridSearchCV() to find the parameters leading to maximum accuracy. Below is the list of parameters used and their respective accuracies:**\n",
        "\n",
        "**1. LogisticRegression(solver='lbfgs') : 81.61% accuracy**\n",
        "\n",
        "**2. LogisticRegression(C=0.01, multi_class='auto', penalty='l2', solver='liblinear') : 81.63% accuracy**"
      ]
    },
    {
      "cell_type": "markdown",
      "metadata": {
        "id": "LMZcqiM3NEws",
        "colab_type": "text"
      },
      "source": [
        "###**Receiver Operating Characteristics:**"
      ]
    },
    {
      "cell_type": "code",
      "metadata": {
        "id": "G6oUDxG4NNGt",
        "colab_type": "code",
        "colab": {}
      },
      "source": [
        "def plotROC(pred_mod,X,y):\n",
        "    mod_proba = pred_mod.predict_proba(X)\n",
        "    mod_proba = mod_proba[:, 1]\n",
        "    auc = metrics.roc_auc_score(y, mod_proba)\n",
        "    print('ROC AUC=%.3f' % (auc))\n",
        "    fpr, tpr, _ = metrics.roc_curve(y, mod_proba)\n",
        "    plt.plot(fpr, tpr, marker='.', label='Classifier')\n",
        "    plt.plot([0, 1], [0, 1],'r--')\n",
        "    plt.title('ROC Curve')\n",
        "    plt.xlabel('FPRate')\n",
        "    plt.ylabel('TPRate')\n",
        "    plt.legend()\n",
        "    plt.show()"
      ],
      "execution_count": 0,
      "outputs": []
    },
    {
      "cell_type": "code",
      "metadata": {
        "id": "F5_7Q2JkNSJ5",
        "colab_type": "code",
        "colab": {
          "base_uri": "https://localhost:8080/",
          "height": 312
        },
        "outputId": "e8356953-c573-4419-b4e5-4cb38ddb1f99"
      },
      "source": [
        "plotROC(logr_grid,X_test, y_test)"
      ],
      "execution_count": 184,
      "outputs": [
        {
          "output_type": "stream",
          "text": [
            "ROC AUC=0.862\n"
          ],
          "name": "stdout"
        },
        {
          "output_type": "display_data",
          "data": {
            "image/png": "[encoded data removed]",
            "text/plain": [
              "<Figure size 432x288 with 1 Axes>"
            ]
          },
          "metadata": {
            "tags": [],
            "needs_background": "light"
          }
        }
      ]
    },
    {
      "cell_type": "markdown",
      "metadata": {
        "id": "3LvJXH2fPV3R",
        "colab_type": "text"
      },
      "source": [
        "**Area under the curve obtained for logistic regression: 0.862.**"
      ]
    },
    {
      "cell_type": "markdown",
      "metadata": {
        "id": "zvCxpTqwOYf4",
        "colab_type": "text"
      },
      "source": [
        "##**Gradient Boosting Machine**"
      ]
    },
    {
      "cell_type": "markdown",
      "metadata": {
        "id": "LHOOhDxDYLDT",
        "colab_type": "text"
      },
      "source": [
        "**Post using logistic regression as the base model, I decided to use gradient boost as my second model. Gradient boost is a greedy algorithm and often provides accuracy that cannot be beat. It is highly flexible and can be optimized through various loss functions and hyperparameter tuning.**"
      ]
    },
    {
      "cell_type": "code",
      "metadata": {
        "id": "1xckWchRSzNG",
        "colab_type": "code",
        "colab": {
          "base_uri": "https://localhost:8080/",
          "height": 34
        },
        "outputId": "bac58941-1619-4d66-ea54-0d315678f9cb"
      },
      "source": [
        "model_g = gbm()\n",
        "model_g.fit(X_train,y_train)\n",
        "gbm_pred = model_g.predict(X_test)\n",
        "print(accuracy_score(y_test, gbm_pred))"
      ],
      "execution_count": 185,
      "outputs": [
        {
          "output_type": "stream",
          "text": [
            "0.8269904094991627\n"
          ],
          "name": "stdout"
        }
      ]
    },
    {
      "cell_type": "markdown",
      "metadata": {
        "id": "_MLN_oghXdBK",
        "colab_type": "text"
      },
      "source": [
        "###**Hyperparamter tuning**"
      ]
    },
    {
      "cell_type": "code",
      "metadata": {
        "id": "G3m41Qo9U5jt",
        "colab_type": "code",
        "colab": {
          "base_uri": "https://localhost:8080/",
          "height": 34
        },
        "outputId": "2f281d92-f481-4597-eab8-58531c426a54"
      },
      "source": [
        "gbm = gbm()\n",
        "parametersGBM = {'learning_rate':[0.02,0.1,0.2], 'loss':['deviance','exponential'], 'n_estimators':[45,75,100,130], 'max_depth':[3,5,9]}\n",
        "gbm_grid = GridSearchCV(gbm, parametersGBM, n_jobs=-1, cv=4)\n",
        "\n",
        "gbm_grid.fit(X_train,y_train)\n",
        "gbm_grid.best_params_"
      ],
      "execution_count": 78,
      "outputs": [
        {
          "output_type": "execute_result",
          "data": {
            "text/plain": [
              "{'learning_rate': 0.2, 'loss': 'deviance', 'max_depth': 3, 'n_estimators': 45}"
            ]
          },
          "metadata": {
            "tags": []
          },
          "execution_count": 78
        }
      ]
    },
    {
      "cell_type": "code",
      "metadata": {
        "id": "I_xNBQx_W2ga",
        "colab_type": "code",
        "colab": {
          "base_uri": "https://localhost:8080/",
          "height": 34
        },
        "outputId": "5f27d925-10ab-4ff4-f64d-7d786e61356b"
      },
      "source": [
        "finalGBM= gbm(learning_rate=0.2, loss='deviance', max_depth=3, n_estimators=45)\n",
        "finalGBM.fit(X_train,y_train)\n",
        "y_pred = finalGBM.predict(X_test)\n",
        "print(accuracy_score(y_test, y_pred))"
      ],
      "execution_count": 186,
      "outputs": [
        {
          "output_type": "stream",
          "text": [
            "0.8258486832090121\n"
          ],
          "name": "stdout"
        }
      ]
    },
    {
      "cell_type": "markdown",
      "metadata": {
        "id": "IJpAErM4XkzN",
        "colab_type": "text"
      },
      "source": [
        "**I initially ran the default GradientBoostingClassifier() and also performed hyperparameter tuning using gridSearchCV() to find the parameters leading to maximum accuracy. Below is the list of parameters used and their respective accuracies:**\n",
        "\n",
        "**1. GradientBoostingClassifier() : 82.7% accuracy**\n",
        "\n",
        "**2. GradientBoostingClassifier(learning_rate=0.2, loss='deviance', max_depth=3, n_estimators=45) : 82.6% accuracy**"
      ]
    },
    {
      "cell_type": "code",
      "metadata": {
        "id": "7iGuu3kabFdX",
        "colab_type": "code",
        "colab": {
          "base_uri": "https://localhost:8080/",
          "height": 312
        },
        "outputId": "1d498843-1f73-4faf-b554-9d3863c60600"
      },
      "source": [
        "plotROC(model_g,X_test, y_test)"
      ],
      "execution_count": 187,
      "outputs": [
        {
          "output_type": "stream",
          "text": [
            "ROC AUC=0.881\n"
          ],
          "name": "stdout"
        },
        {
          "output_type": "display_data",
          "data": {
            "image/png": "[encoded data removed]",
            "text/plain": [
              "<Figure size 432x288 with 1 Axes>"
            ]
          },
          "metadata": {
            "tags": [],
            "needs_background": "light"
          }
        }
      ]
    },
    {
      "cell_type": "markdown",
      "metadata": {
        "id": "DH5h969aTZKs",
        "colab_type": "text"
      },
      "source": [
        "**Area under the curve for ROC: 0.881.**"
      ]
    },
    {
      "cell_type": "markdown",
      "metadata": {
        "id": "Ksw27UmLP-4H",
        "colab_type": "text"
      },
      "source": [
        "##**Feature Engineering:**"
      ]
    },
    {
      "cell_type": "code",
      "metadata": {
        "id": "YkvH-FnTKOzs",
        "colab_type": "code",
        "colab": {
          "base_uri": "https://localhost:8080/",
          "height": 669
        },
        "outputId": "a2f25a54-efee-466d-8deb-a0cb00cbf161"
      },
      "source": [
        "f_imp_gb = pd.DataFrame(model_g.feature_importances_, index=X.columns, columns=['importance']).sort_values('importance',ascending=False)\n",
        "f_imp_gb"
      ],
      "execution_count": 188,
      "outputs": [
        {
          "output_type": "execute_result",
          "data": {
            "text/html": [
              "<div>\n",
              "<style scoped>\n",
              "    .dataframe tbody tr th:only-of-type {\n",
              "        vertical-align: middle;\n",
              "    }\n",
              "\n",
              "    .dataframe tbody tr th {\n",
              "        vertical-align: top;\n",
              "    }\n",
              "\n",
              "    .dataframe thead th {\n",
              "        text-align: right;\n",
              "    }\n",
              "</style>\n",
              "<table border=\"1\" class=\"dataframe\">\n",
              "  <thead>\n",
              "    <tr style=\"text-align: right;\">\n",
              "      <th></th>\n",
              "      <th>importance</th>\n",
              "    </tr>\n",
              "  </thead>\n",
              "  <tbody>\n",
              "    <tr>\n",
              "      <th>marital-status-Single</th>\n",
              "      <td>0.313130</td>\n",
              "    </tr>\n",
              "    <tr>\n",
              "      <th>marital-status-Married</th>\n",
              "      <td>0.202612</td>\n",
              "    </tr>\n",
              "    <tr>\n",
              "      <th>education-Graduated</th>\n",
              "      <td>0.108220</td>\n",
              "    </tr>\n",
              "    <tr>\n",
              "      <th>occupation-Salaried</th>\n",
              "      <td>0.107864</td>\n",
              "    </tr>\n",
              "    <tr>\n",
              "      <th>age</th>\n",
              "      <td>0.095557</td>\n",
              "    </tr>\n",
              "    <tr>\n",
              "      <th>hours-per-week</th>\n",
              "      <td>0.082189</td>\n",
              "    </tr>\n",
              "    <tr>\n",
              "      <th>relationship-Related</th>\n",
              "      <td>0.032089</td>\n",
              "    </tr>\n",
              "    <tr>\n",
              "      <th>education-NoDiploma</th>\n",
              "      <td>0.028654</td>\n",
              "    </tr>\n",
              "    <tr>\n",
              "      <th>relationship-Single</th>\n",
              "      <td>0.011399</td>\n",
              "    </tr>\n",
              "    <tr>\n",
              "      <th>occupation-Waged</th>\n",
              "      <td>0.006296</td>\n",
              "    </tr>\n",
              "    <tr>\n",
              "      <th>gender-Male</th>\n",
              "      <td>0.003258</td>\n",
              "    </tr>\n",
              "    <tr>\n",
              "      <th>workclass-SelfEmployed</th>\n",
              "      <td>0.002891</td>\n",
              "    </tr>\n",
              "    <tr>\n",
              "      <th>gender-Female</th>\n",
              "      <td>0.002333</td>\n",
              "    </tr>\n",
              "    <tr>\n",
              "      <th>workclass-Private</th>\n",
              "      <td>0.001024</td>\n",
              "    </tr>\n",
              "    <tr>\n",
              "      <th>race-Black</th>\n",
              "      <td>0.000906</td>\n",
              "    </tr>\n",
              "    <tr>\n",
              "      <th>education-HighSchoolGrad</th>\n",
              "      <td>0.000618</td>\n",
              "    </tr>\n",
              "    <tr>\n",
              "      <th>workclass-GovtEmployed</th>\n",
              "      <td>0.000385</td>\n",
              "    </tr>\n",
              "    <tr>\n",
              "      <th>occupation-Service</th>\n",
              "      <td>0.000285</td>\n",
              "    </tr>\n",
              "    <tr>\n",
              "      <th>workclass-Unemployed</th>\n",
              "      <td>0.000174</td>\n",
              "    </tr>\n",
              "    <tr>\n",
              "      <th>race-Other</th>\n",
              "      <td>0.000103</td>\n",
              "    </tr>\n",
              "    <tr>\n",
              "      <th>race-White</th>\n",
              "      <td>0.000013</td>\n",
              "    </tr>\n",
              "  </tbody>\n",
              "</table>\n",
              "</div>"
            ],
            "text/plain": [
              "                          importance\n",
              "marital-status-Single       0.313130\n",
              "marital-status-Married      0.202612\n",
              "education-Graduated         0.108220\n",
              "occupation-Salaried         0.107864\n",
              "age                         0.095557\n",
              "hours-per-week              0.082189\n",
              "relationship-Related        0.032089\n",
              "education-NoDiploma         0.028654\n",
              "relationship-Single         0.011399\n",
              "occupation-Waged            0.006296\n",
              "gender-Male                 0.003258\n",
              "workclass-SelfEmployed      0.002891\n",
              "gender-Female               0.002333\n",
              "workclass-Private           0.001024\n",
              "race-Black                  0.000906\n",
              "education-HighSchoolGrad    0.000618\n",
              "workclass-GovtEmployed      0.000385\n",
              "occupation-Service          0.000285\n",
              "workclass-Unemployed        0.000174\n",
              "race-Other                  0.000103\n",
              "race-White                  0.000013"
            ]
          },
          "metadata": {
            "tags": []
          },
          "execution_count": 188
        }
      ]
    },
    {
      "cell_type": "markdown",
      "metadata": {
        "id": "MEIk4XlpXp5c",
        "colab_type": "text"
      },
      "source": [
        "##**Comparing logistic regression and gradient boosting classifier:**"
      ]
    },
    {
      "cell_type": "markdown",
      "metadata": {
        "id": "TP4ShXXaTr-N",
        "colab_type": "text"
      },
      "source": [
        "1. ML algorithm: Logistic Regression, Parameters used: {C=0.01, multi_class='auto', penalty='l2', solver='liblinear'}, Accuracy: 81.6%, Time to run: ~2 seconds\n",
        "\n",
        "2. ML algorithm: Gradient Boost Machine, Parameters used: default, Accuracy: 82.7%, Time to run: ~5 seconds\n"
      ]
    },
    {
      "cell_type": "markdown",
      "metadata": {
        "id": "oU_8NTxVUZHl",
        "colab_type": "text"
      },
      "source": [
        "**Gradient boosting took slightly higher time to run than logistic regression, but the model provided a better accuracy. It is one of the most flexible algorithms and usually gives an accuracy that cannot be beat.**"
      ]
    }
  ]
}